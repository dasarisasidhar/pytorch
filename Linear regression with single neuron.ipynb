{
 "cells": [
  {
   "cell_type": "code",
   "execution_count": 1,
   "metadata": {},
   "outputs": [],
   "source": [
    "import numpy as np\n",
    "import matplotlib.pyplot as plt"
   ]
  },
  {
   "cell_type": "code",
   "execution_count": 2,
   "metadata": {},
   "outputs": [],
   "source": [
    "x_train    = np.array([[60], [80],  [100], [30], [50], [20], [90],  [10], [20], [120]], dtype=np.float32)\n",
    "y_train = np.array([[160], [200], [240], [100], [140], [80], [220], [60], [80], [280]],  dtype=np.float32)\n",
    "#since it is simple by seeing we can predict the relation b/w them i.e  gained = budget*2+40"
   ]
  },
  {
   "cell_type": "code",
   "execution_count": 3,
   "metadata": {},
   "outputs": [
    {
     "data": {
      "text/plain": [
       "array([[ 60.],\n",
       "       [ 80.],\n",
       "       [100.],\n",
       "       [ 30.],\n",
       "       [ 50.],\n",
       "       [ 20.],\n",
       "       [ 90.],\n",
       "       [ 10.],\n",
       "       [ 20.],\n",
       "       [120.]], dtype=float32)"
      ]
     },
     "execution_count": 3,
     "metadata": {},
     "output_type": "execute_result"
    }
   ],
   "source": [
    "x_train"
   ]
  },
  {
   "cell_type": "code",
   "execution_count": 4,
   "metadata": {},
   "outputs": [],
   "source": [
    "\n",
    "import torch\n",
    "from torch import nn"
   ]
  },
  {
   "cell_type": "code",
   "execution_count": 5,
   "metadata": {},
   "outputs": [],
   "source": [
    "x_train = torch.from_numpy(x_train)\n",
    "\n",
    "y_train = torch.from_numpy(y_train)"
   ]
  },
  {
   "cell_type": "code",
   "execution_count": 6,
   "metadata": {},
   "outputs": [
    {
     "data": {
      "text/plain": [
       "tensor([[ 60.],\n",
       "        [ 80.],\n",
       "        [100.],\n",
       "        [ 30.],\n",
       "        [ 50.],\n",
       "        [ 20.],\n",
       "        [ 90.],\n",
       "        [ 10.],\n",
       "        [ 20.],\n",
       "        [120.]])"
      ]
     },
     "execution_count": 6,
     "metadata": {},
     "output_type": "execute_result"
    }
   ],
   "source": [
    "x_train"
   ]
  },
  {
   "cell_type": "code",
   "execution_count": 7,
   "metadata": {},
   "outputs": [
    {
     "data": {
      "text/plain": [
       "tensor([[160.],\n",
       "        [200.],\n",
       "        [240.],\n",
       "        [100.],\n",
       "        [140.],\n",
       "        [ 80.],\n",
       "        [220.],\n",
       "        [ 60.],\n",
       "        [ 80.],\n",
       "        [280.]])"
      ]
     },
     "execution_count": 7,
     "metadata": {},
     "output_type": "execute_result"
    }
   ],
   "source": [
    "y_train"
   ]
  },
  {
   "cell_type": "code",
   "execution_count": 8,
   "metadata": {},
   "outputs": [],
   "source": [
    "# Linear Regression Model\n",
    "class linearRegression(nn.Module):\n",
    "    def __init__(self):\n",
    "        super(linearRegression, self).__init__()\n",
    "        self.linear = nn.Linear(1, 1)  # input and output is 1 dimension\n",
    "\n",
    "    def forward(self, x):\n",
    "        out = self.linear(x)\n",
    "        return out\n"
   ]
  },
  {
   "cell_type": "code",
   "execution_count": 9,
   "metadata": {},
   "outputs": [],
   "source": [
    "model = linearRegression()\n",
    "criterion = nn.MSELoss()\n",
    "optimizer = torch.optim.SGD(model.parameters(), lr=1e-4)"
   ]
  },
  {
   "cell_type": "code",
   "execution_count": 10,
   "metadata": {},
   "outputs": [
    {
     "name": "stdout",
     "output_type": "stream",
     "text": [
      "Epoch[20/100], loss: 444.853027\n",
      "Epoch[40/100], loss: 443.853607\n",
      "Epoch[60/100], loss: 442.856293\n",
      "Epoch[80/100], loss: 441.861420\n",
      "Epoch[100/100], loss: 440.868622\n"
     ]
    }
   ],
   "source": [
    "num_epochs = 100\n",
    "for epoch in range(num_epochs):\n",
    "    inputs = x_train\n",
    "    target = y_train\n",
    "\n",
    "    # forward\n",
    "    out = model(inputs)\n",
    "    loss = criterion(out, target)\n",
    "    # backward\n",
    "    optimizer.zero_grad()\n",
    "    loss.backward()\n",
    "    optimizer.step()\n",
    "\n",
    "    if (epoch+1) % 20 == 0:\n",
    "        print(f'Epoch[{epoch+1}/{num_epochs}], loss: {loss.item():.6f}')"
   ]
  },
  {
   "cell_type": "code",
   "execution_count": 11,
   "metadata": {},
   "outputs": [],
   "source": [
    "model.eval()\n",
    "with torch.no_grad():\n",
    "    predict = model(x_train)\n",
    "predict = predict.data.numpy()\n"
   ]
  },
  {
   "cell_type": "code",
   "execution_count": 12,
   "metadata": {},
   "outputs": [
    {
     "data": {
      "image/png": "[encoded data removed]",
      "text/plain": [
       "<Figure size 720x360 with 1 Axes>"
      ]
     },
     "metadata": {
      "needs_background": "light"
     },
     "output_type": "display_data"
    }
   ],
   "source": [
    "fig = plt.figure(figsize=(10, 5))\n",
    "plt.plot(x_train.numpy(), y_train.numpy(), 'ro', label='Original data')\n",
    "plt.plot(x_train.numpy(), predict, label='Fitting Line')\n",
    "plt.legend() \n",
    "plt.show()"
   ]
  },
  {
   "cell_type": "code",
   "execution_count": 13,
   "metadata": {},
   "outputs": [
    {
     "name": "stdout",
     "output_type": "stream",
     "text": [
      "Epoch[20/5000], loss: 439.877991\n",
      "Epoch[40/5000], loss: 438.889709\n",
      "Epoch[60/5000], loss: 437.903717\n",
      "Epoch[80/5000], loss: 436.919769\n",
      "Epoch[100/5000], loss: 435.938110\n",
      "Epoch[120/5000], loss: 434.958649\n",
      "Epoch[140/5000], loss: 433.981445\n",
      "Epoch[160/5000], loss: 433.006409\n",
      "Epoch[180/5000], loss: 432.033478\n",
      "Epoch[200/5000], loss: 431.062836\n",
      "Epoch[220/5000], loss: 430.094299\n",
      "Epoch[240/5000], loss: 429.127960\n",
      "Epoch[260/5000], loss: 428.163818\n",
      "Epoch[280/5000], loss: 427.201813\n",
      "Epoch[300/5000], loss: 426.242035\n",
      "Epoch[320/5000], loss: 425.284393\n",
      "Epoch[340/5000], loss: 424.328857\n",
      "Epoch[360/5000], loss: 423.375519\n",
      "Epoch[380/5000], loss: 422.424286\n",
      "Epoch[400/5000], loss: 421.475250\n",
      "Epoch[420/5000], loss: 420.528259\n",
      "Epoch[440/5000], loss: 419.583435\n",
      "Epoch[460/5000], loss: 418.640747\n",
      "Epoch[480/5000], loss: 417.700134\n",
      "Epoch[500/5000], loss: 416.761719\n",
      "Epoch[520/5000], loss: 415.825256\n",
      "Epoch[540/5000], loss: 414.891052\n",
      "Epoch[560/5000], loss: 413.958923\n",
      "Epoch[580/5000], loss: 413.028870\n",
      "Epoch[600/5000], loss: 412.100769\n",
      "Epoch[620/5000], loss: 411.174927\n",
      "Epoch[640/5000], loss: 410.251129\n",
      "Epoch[660/5000], loss: 409.329437\n",
      "Epoch[680/5000], loss: 408.409760\n",
      "Epoch[700/5000], loss: 407.492126\n",
      "Epoch[720/5000], loss: 406.576599\n",
      "Epoch[740/5000], loss: 405.663116\n",
      "Epoch[760/5000], loss: 404.751678\n",
      "Epoch[780/5000], loss: 403.842316\n",
      "Epoch[800/5000], loss: 402.934937\n",
      "Epoch[820/5000], loss: 402.029694\n",
      "Epoch[840/5000], loss: 401.126495\n",
      "Epoch[860/5000], loss: 400.225250\n",
      "Epoch[880/5000], loss: 399.325989\n",
      "Epoch[900/5000], loss: 398.428864\n",
      "Epoch[920/5000], loss: 397.533661\n",
      "Epoch[940/5000], loss: 396.640503\n",
      "Epoch[960/5000], loss: 395.749268\n",
      "Epoch[980/5000], loss: 394.860229\n",
      "Epoch[1000/5000], loss: 393.973053\n",
      "Epoch[1020/5000], loss: 393.087891\n",
      "Epoch[1040/5000], loss: 392.204712\n",
      "Epoch[1060/5000], loss: 391.323456\n",
      "Epoch[1080/5000], loss: 390.444305\n",
      "Epoch[1100/5000], loss: 389.567108\n",
      "Epoch[1120/5000], loss: 388.691833\n",
      "Epoch[1140/5000], loss: 387.818481\n",
      "Epoch[1160/5000], loss: 386.947174\n",
      "Epoch[1180/5000], loss: 386.077728\n",
      "Epoch[1200/5000], loss: 385.210327\n",
      "Epoch[1220/5000], loss: 384.344879\n",
      "Epoch[1240/5000], loss: 383.481354\n",
      "Epoch[1260/5000], loss: 382.619690\n",
      "Epoch[1280/5000], loss: 381.760193\n",
      "Epoch[1300/5000], loss: 380.902405\n",
      "Epoch[1320/5000], loss: 380.046539\n",
      "Epoch[1340/5000], loss: 379.192688\n",
      "Epoch[1360/5000], loss: 378.340759\n",
      "Epoch[1380/5000], loss: 377.490692\n",
      "Epoch[1400/5000], loss: 376.642578\n",
      "Epoch[1420/5000], loss: 375.796326\n",
      "Epoch[1440/5000], loss: 374.952026\n",
      "Epoch[1460/5000], loss: 374.109619\n",
      "Epoch[1480/5000], loss: 373.269043\n",
      "Epoch[1500/5000], loss: 372.430450\n",
      "Epoch[1520/5000], loss: 371.593567\n",
      "Epoch[1540/5000], loss: 370.758698\n",
      "Epoch[1560/5000], loss: 369.925812\n",
      "Epoch[1580/5000], loss: 369.094666\n",
      "Epoch[1600/5000], loss: 368.265350\n",
      "Epoch[1620/5000], loss: 367.437927\n",
      "Epoch[1640/5000], loss: 366.612396\n",
      "Epoch[1660/5000], loss: 365.788696\n",
      "Epoch[1680/5000], loss: 364.966888\n",
      "Epoch[1700/5000], loss: 364.146912\n",
      "Epoch[1720/5000], loss: 363.328705\n",
      "Epoch[1740/5000], loss: 362.512421\n",
      "Epoch[1760/5000], loss: 361.697845\n",
      "Epoch[1780/5000], loss: 360.885254\n",
      "Epoch[1800/5000], loss: 360.074493\n",
      "Epoch[1820/5000], loss: 359.265472\n",
      "Epoch[1840/5000], loss: 358.458221\n",
      "Epoch[1860/5000], loss: 357.652863\n",
      "Epoch[1880/5000], loss: 356.849335\n",
      "Epoch[1900/5000], loss: 356.047577\n",
      "Epoch[1920/5000], loss: 355.247681\n",
      "Epoch[1940/5000], loss: 354.449432\n",
      "Epoch[1960/5000], loss: 353.653076\n",
      "Epoch[1980/5000], loss: 352.858551\n",
      "Epoch[2000/5000], loss: 352.065704\n",
      "Epoch[2020/5000], loss: 351.274750\n",
      "Epoch[2040/5000], loss: 350.485413\n",
      "Epoch[2060/5000], loss: 349.698029\n",
      "Epoch[2080/5000], loss: 348.912384\n",
      "Epoch[2100/5000], loss: 348.128418\n",
      "Epoch[2120/5000], loss: 347.346283\n",
      "Epoch[2140/5000], loss: 346.565796\n",
      "Epoch[2160/5000], loss: 345.787140\n",
      "Epoch[2180/5000], loss: 345.010284\n",
      "Epoch[2200/5000], loss: 344.235138\n",
      "Epoch[2220/5000], loss: 343.461731\n",
      "Epoch[2240/5000], loss: 342.690063\n",
      "Epoch[2260/5000], loss: 341.920166\n",
      "Epoch[2280/5000], loss: 341.151886\n",
      "Epoch[2300/5000], loss: 340.385406\n",
      "Epoch[2320/5000], loss: 339.620544\n",
      "Epoch[2340/5000], loss: 338.857513\n",
      "Epoch[2360/5000], loss: 338.096252\n",
      "Epoch[2380/5000], loss: 337.336548\n",
      "Epoch[2400/5000], loss: 336.578766\n",
      "Epoch[2420/5000], loss: 335.822449\n",
      "Epoch[2440/5000], loss: 335.067932\n",
      "Epoch[2460/5000], loss: 334.315094\n",
      "Epoch[2480/5000], loss: 333.563965\n",
      "Epoch[2500/5000], loss: 332.814575\n",
      "Epoch[2520/5000], loss: 332.066895\n",
      "Epoch[2540/5000], loss: 331.320770\n",
      "Epoch[2560/5000], loss: 330.576355\n",
      "Epoch[2580/5000], loss: 329.833679\n",
      "Epoch[2600/5000], loss: 329.092590\n",
      "Epoch[2620/5000], loss: 328.353180\n",
      "Epoch[2640/5000], loss: 327.615509\n",
      "Epoch[2660/5000], loss: 326.879364\n",
      "Epoch[2680/5000], loss: 326.144989\n",
      "Epoch[2700/5000], loss: 325.412109\n",
      "Epoch[2720/5000], loss: 324.681030\n",
      "Epoch[2740/5000], loss: 323.951599\n",
      "Epoch[2760/5000], loss: 323.223816\n",
      "Epoch[2780/5000], loss: 322.497620\n",
      "Epoch[2800/5000], loss: 321.773010\n",
      "Epoch[2820/5000], loss: 321.050049\n",
      "Epoch[2840/5000], loss: 320.328674\n",
      "Epoch[2860/5000], loss: 319.608917\n",
      "Epoch[2880/5000], loss: 318.890900\n",
      "Epoch[2900/5000], loss: 318.174377\n",
      "Epoch[2920/5000], loss: 317.459534\n",
      "Epoch[2940/5000], loss: 316.746338\n",
      "Epoch[2960/5000], loss: 316.034668\n",
      "Epoch[2980/5000], loss: 315.324677\n",
      "Epoch[3000/5000], loss: 314.616119\n",
      "Epoch[3020/5000], loss: 313.909210\n",
      "Epoch[3040/5000], loss: 313.204102\n",
      "Epoch[3060/5000], loss: 312.500336\n",
      "Epoch[3080/5000], loss: 311.798248\n",
      "Epoch[3100/5000], loss: 311.097687\n",
      "Epoch[3120/5000], loss: 310.398712\n",
      "Epoch[3140/5000], loss: 309.701324\n",
      "Epoch[3160/5000], loss: 309.005463\n",
      "Epoch[3180/5000], loss: 308.311218\n",
      "Epoch[3200/5000], loss: 307.618530\n",
      "Epoch[3220/5000], loss: 306.927368\n",
      "Epoch[3240/5000], loss: 306.237793\n",
      "Epoch[3260/5000], loss: 305.549652\n",
      "Epoch[3280/5000], loss: 304.863312\n",
      "Epoch[3300/5000], loss: 304.178284\n",
      "Epoch[3320/5000], loss: 303.494873\n",
      "Epoch[3340/5000], loss: 302.813019\n",
      "Epoch[3360/5000], loss: 302.132629\n",
      "Epoch[3380/5000], loss: 301.453827\n",
      "Epoch[3400/5000], loss: 300.776520\n",
      "Epoch[3420/5000], loss: 300.100708\n",
      "Epoch[3440/5000], loss: 299.426483\n",
      "Epoch[3460/5000], loss: 298.753723\n",
      "Epoch[3480/5000], loss: 298.082489\n",
      "Epoch[3500/5000], loss: 297.412842\n",
      "Epoch[3520/5000], loss: 296.744598\n",
      "Epoch[3540/5000], loss: 296.077850\n",
      "Epoch[3560/5000], loss: 295.412750\n",
      "Epoch[3580/5000], loss: 294.748901\n",
      "Epoch[3600/5000], loss: 294.086761\n",
      "Epoch[3620/5000], loss: 293.425964\n",
      "Epoch[3640/5000], loss: 292.766754\n",
      "Epoch[3660/5000], loss: 292.108948\n",
      "Epoch[3680/5000], loss: 291.452576\n",
      "Epoch[3700/5000], loss: 290.797821\n",
      "Epoch[3720/5000], loss: 290.144409\n",
      "Epoch[3740/5000], loss: 289.492615\n",
      "Epoch[3760/5000], loss: 288.842133\n",
      "Epoch[3780/5000], loss: 288.193176\n",
      "Epoch[3800/5000], loss: 287.545685\n",
      "Epoch[3820/5000], loss: 286.899628\n",
      "Epoch[3840/5000], loss: 286.255066\n",
      "Epoch[3860/5000], loss: 285.611877\n",
      "Epoch[3880/5000], loss: 284.970215\n",
      "Epoch[3900/5000], loss: 284.329956\n",
      "Epoch[3920/5000], loss: 283.691162\n",
      "Epoch[3940/5000], loss: 283.053741\n",
      "Epoch[3960/5000], loss: 282.417725\n",
      "Epoch[3980/5000], loss: 281.783203\n",
      "Epoch[4000/5000], loss: 281.150177\n",
      "Epoch[4020/5000], loss: 280.518524\n",
      "Epoch[4040/5000], loss: 279.888184\n",
      "Epoch[4060/5000], loss: 279.259369\n",
      "Epoch[4080/5000], loss: 278.631958\n",
      "Epoch[4100/5000], loss: 278.005890\n",
      "Epoch[4120/5000], loss: 277.381378\n",
      "Epoch[4140/5000], loss: 276.758118\n",
      "Epoch[4160/5000], loss: 276.136322\n",
      "Epoch[4180/5000], loss: 275.515900\n",
      "Epoch[4200/5000], loss: 274.896912\n",
      "Epoch[4220/5000], loss: 274.279175\n",
      "Epoch[4240/5000], loss: 273.663025\n",
      "Epoch[4260/5000], loss: 273.048157\n",
      "Epoch[4280/5000], loss: 272.434692\n",
      "Epoch[4300/5000], loss: 271.822571\n",
      "Epoch[4320/5000], loss: 271.211853\n",
      "Epoch[4340/5000], loss: 270.602539\n",
      "Epoch[4360/5000], loss: 269.994537\n",
      "Epoch[4380/5000], loss: 269.387970\n",
      "Epoch[4400/5000], loss: 268.782684\n",
      "Epoch[4420/5000], loss: 268.178772\n",
      "Epoch[4440/5000], loss: 267.576202\n",
      "Epoch[4460/5000], loss: 266.975067\n",
      "Epoch[4480/5000], loss: 266.375214\n",
      "Epoch[4500/5000], loss: 265.776794\n",
      "Epoch[4520/5000], loss: 265.179657\n",
      "Epoch[4540/5000], loss: 264.583801\n",
      "Epoch[4560/5000], loss: 263.989349\n",
      "Epoch[4580/5000], loss: 263.396240\n",
      "Epoch[4600/5000], loss: 262.804474\n",
      "Epoch[4620/5000], loss: 262.213989\n",
      "Epoch[4640/5000], loss: 261.624786\n",
      "Epoch[4660/5000], loss: 261.037109\n",
      "Epoch[4680/5000], loss: 260.450500\n",
      "Epoch[4700/5000], loss: 259.865356\n"
     ]
    },
    {
     "name": "stdout",
     "output_type": "stream",
     "text": [
      "Epoch[4720/5000], loss: 259.281525\n",
      "Epoch[4740/5000], loss: 258.698975\n",
      "Epoch[4760/5000], loss: 258.117706\n",
      "Epoch[4780/5000], loss: 257.537811\n",
      "Epoch[4800/5000], loss: 256.959198\n",
      "Epoch[4820/5000], loss: 256.381897\n",
      "Epoch[4840/5000], loss: 255.805878\n",
      "Epoch[4860/5000], loss: 255.231140\n",
      "Epoch[4880/5000], loss: 254.657761\n",
      "Epoch[4900/5000], loss: 254.085541\n",
      "Epoch[4920/5000], loss: 253.514664\n",
      "Epoch[4940/5000], loss: 252.945129\n",
      "Epoch[4960/5000], loss: 252.376801\n",
      "Epoch[4980/5000], loss: 251.809769\n",
      "Epoch[5000/5000], loss: 251.243973\n"
     ]
    }
   ],
   "source": [
    "\n",
    "num_epochs = 5000\n",
    "for epoch in range(num_epochs):\n",
    "    inputs = x_train\n",
    "    target = y_train\n",
    "\n",
    "    # forward\n",
    "    out = model(inputs)\n",
    "    loss = criterion(out, target)\n",
    "    # backward\n",
    "    optimizer.zero_grad()\n",
    "    loss.backward()\n",
    "    optimizer.step()\n",
    "\n",
    "    if (epoch+1) % 20 == 0:\n",
    "        print(f'Epoch[{epoch+1}/{num_epochs}], loss: {loss.item():.6f}')"
   ]
  },
  {
   "cell_type": "code",
   "execution_count": 14,
   "metadata": {},
   "outputs": [],
   "source": [
    "model.eval()\n",
    "with torch.no_grad():\n",
    "    predict = model(x_train)\n",
    "predict = predict.data.numpy()"
   ]
  },
  {
   "cell_type": "code",
   "execution_count": 15,
   "metadata": {},
   "outputs": [
    {
     "data": {
      "image/png": "[encoded data removed]",
      "text/plain": [
       "<Figure size 720x360 with 1 Axes>"
      ]
     },
     "metadata": {
      "needs_background": "light"
     },
     "output_type": "display_data"
    }
   ],
   "source": [
    "fig = plt.figure(figsize=(10, 5))\n",
    "plt.plot(x_train.numpy(), y_train.numpy(), 'ro', label='Original data')\n",
    "plt.plot(x_train.numpy(), predict, label='Fitting Line')\n",
    "plt.legend() \n",
    "plt.show()"
   ]
  },
  {
   "cell_type": "code",
   "execution_count": null,
   "metadata": {},
   "outputs": [],
   "source": []
  },
  {
   "cell_type": "code",
   "execution_count": null,
   "metadata": {},
   "outputs": [],
   "source": []
  },
  {
   "cell_type": "code",
   "execution_count": null,
   "metadata": {},
   "outputs": [],
   "source": []
  },
  {
   "cell_type": "code",
   "execution_count": null,
   "metadata": {},
   "outputs": [],
   "source": []
  },
  {
   "cell_type": "code",
   "execution_count": null,
   "metadata": {},
   "outputs": [],
   "source": [
    "\n",
    "    "
   ]
  },
  {
   "cell_type": "code",
   "execution_count": null,
   "metadata": {},
   "outputs": [],
   "source": []
  },
  {
   "cell_type": "code",
   "execution_count": null,
   "metadata": {},
   "outputs": [],
   "source": []
  },
  {
   "cell_type": "code",
   "execution_count": null,
   "metadata": {},
   "outputs": [],
   "source": []
  },
  {
   "cell_type": "code",
   "execution_count": null,
   "metadata": {},
   "outputs": [],
   "source": []
  },
  {
   "cell_type": "code",
   "execution_count": null,
   "metadata": {},
   "outputs": [],
   "source": [
    "\n",
    "        "
   ]
  },
  {
   "cell_type": "code",
   "execution_count": null,
   "metadata": {},
   "outputs": [],
   "source": []
  },
  {
   "cell_type": "code",
   "execution_count": null,
   "metadata": {},
   "outputs": [],
   "source": []
  },
  {
   "cell_type": "code",
   "execution_count": null,
   "metadata": {},
   "outputs": [],
   "source": []
  },
  {
   "cell_type": "code",
   "execution_count": null,
   "metadata": {},
   "outputs": [],
   "source": []
  }
 ],
 "metadata": {
  "kernelspec": {
   "display_name": "Python 3",
   "language": "python",
   "name": "python3"
  },
  "language_info": {
   "codemirror_mode": {
    "name": "ipython",
    "version": 3
   },
   "file_extension": ".py",
   "mimetype": "text/x-python",
   "name": "python",
   "nbconvert_exporter": "python",
   "pygments_lexer": "ipython3",
   "version": "3.7.4"
  }
 },
 "nbformat": 4,
 "nbformat_minor": 2
}
