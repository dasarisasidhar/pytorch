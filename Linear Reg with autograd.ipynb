{
 "cells": [
  {
   "cell_type": "code",
   "execution_count": 1,
   "metadata": {},
   "outputs": [],
   "source": [
    "import matplotlib.pyplot as plt\n",
    "import numpy as np\n",
    "import torch\n",
    "from torch import nn\n",
    "from torch.autograd import Variable\n"
   ]
  },
  {
   "cell_type": "code",
   "execution_count": 18,
   "metadata": {},
   "outputs": [],
   "source": [
    "\n",
    "x_train = np.array([[3.3], [4.4], [5.5], [6.71], [6.93], [4.168],\n",
    "                    [9.779], [6.182], [7.59], [2.167], [7.042],\n",
    "                    [10.791], [5.313], [7.997], [3.1]], dtype=np.float32)\n",
    "y_train= np.array([[1.7], [2.76], [2.09], [3.19], [1.694], [1.573],\n",
    "                    [3.366], [2.596], [2.53], [1.221], [2.827],\n",
    "                    [3.465], [1.65], [2.904], [1.3]], dtype=np.float32)"
   ]
  },
  {
   "cell_type": "code",
   "execution_count": 19,
   "metadata": {},
   "outputs": [
    {
     "data": {
      "text/plain": [
       "array([[ 3.3  ],\n",
       "       [ 4.4  ],\n",
       "       [ 5.5  ],\n",
       "       [ 6.71 ],\n",
       "       [ 6.93 ],\n",
       "       [ 4.168],\n",
       "       [ 9.779],\n",
       "       [ 6.182],\n",
       "       [ 7.59 ],\n",
       "       [ 2.167],\n",
       "       [ 7.042],\n",
       "       [10.791],\n",
       "       [ 5.313],\n",
       "       [ 7.997],\n",
       "       [ 3.1  ]], dtype=float32)"
      ]
     },
     "execution_count": 19,
     "metadata": {},
     "output_type": "execute_result"
    }
   ],
   "source": [
    "x_train"
   ]
  },
  {
   "cell_type": "code",
   "execution_count": 20,
   "metadata": {},
   "outputs": [],
   "source": [
    "x_train = torch.from_numpy(x_train)\n",
    "\n",
    "y_train = torch.from_numpy(y_train)"
   ]
  },
  {
   "cell_type": "code",
   "execution_count": 21,
   "metadata": {},
   "outputs": [
    {
     "data": {
      "text/plain": [
       "tensor([[ 3.3000],\n",
       "        [ 4.4000],\n",
       "        [ 5.5000],\n",
       "        [ 6.7100],\n",
       "        [ 6.9300],\n",
       "        [ 4.1680],\n",
       "        [ 9.7790],\n",
       "        [ 6.1820],\n",
       "        [ 7.5900],\n",
       "        [ 2.1670],\n",
       "        [ 7.0420],\n",
       "        [10.7910],\n",
       "        [ 5.3130],\n",
       "        [ 7.9970],\n",
       "        [ 3.1000]])"
      ]
     },
     "execution_count": 21,
     "metadata": {},
     "output_type": "execute_result"
    }
   ],
   "source": [
    "x_train"
   ]
  },
  {
   "cell_type": "code",
   "execution_count": 12,
   "metadata": {},
   "outputs": [],
   "source": [
    "# Linear Regression Model\n",
    "class linearRegression(nn.Module):\n",
    "    def __init__(self):\n",
    "        super(linearRegression, self).__init__()\n",
    "        self.linear = nn.Linear(1, 1)  # input and output is 1 dimension\n",
    "\n",
    "    def forward(self, x):\n",
    "        out = self.linear(x)\n",
    "        return out\n"
   ]
  },
  {
   "cell_type": "code",
   "execution_count": 13,
   "metadata": {},
   "outputs": [],
   "source": [
    "model = linearRegression()\n",
    "criterion = nn.MSELoss()\n",
    "optimizer = torch.optim.SGD(model.parameters(), lr=1e-4)"
   ]
  },
  {
   "cell_type": "code",
   "execution_count": 14,
   "metadata": {},
   "outputs": [
    {
     "name": "stdout",
     "output_type": "stream",
     "text": [
      "Epoch[20/1000], loss: 16.164804\n",
      "Epoch[40/1000], loss: 11.473984\n",
      "Epoch[60/1000], loss: 8.158768\n",
      "Epoch[80/1000], loss: 5.815760\n",
      "Epoch[100/1000], loss: 4.159847\n",
      "Epoch[120/1000], loss: 2.989540\n",
      "Epoch[140/1000], loss: 2.162433\n",
      "Epoch[160/1000], loss: 1.577879\n",
      "Epoch[180/1000], loss: 1.164749\n",
      "Epoch[200/1000], loss: 0.872771\n",
      "Epoch[220/1000], loss: 0.666417\n",
      "Epoch[240/1000], loss: 0.520578\n",
      "Epoch[260/1000], loss: 0.417506\n",
      "Epoch[280/1000], loss: 0.344661\n",
      "Epoch[300/1000], loss: 0.293178\n",
      "Epoch[320/1000], loss: 0.256792\n",
      "Epoch[340/1000], loss: 0.231077\n",
      "Epoch[360/1000], loss: 0.212903\n",
      "Epoch[380/1000], loss: 0.200058\n",
      "Epoch[400/1000], loss: 0.190980\n",
      "Epoch[420/1000], loss: 0.184564\n",
      "Epoch[440/1000], loss: 0.180030\n",
      "Epoch[460/1000], loss: 0.176825\n",
      "Epoch[480/1000], loss: 0.174560\n",
      "Epoch[500/1000], loss: 0.172960\n",
      "Epoch[520/1000], loss: 0.171828\n",
      "Epoch[540/1000], loss: 0.171029\n",
      "Epoch[560/1000], loss: 0.170463\n",
      "Epoch[580/1000], loss: 0.170064\n",
      "Epoch[600/1000], loss: 0.169781\n",
      "Epoch[620/1000], loss: 0.169582\n",
      "Epoch[640/1000], loss: 0.169441\n",
      "Epoch[660/1000], loss: 0.169341\n",
      "Epoch[680/1000], loss: 0.169270\n",
      "Epoch[700/1000], loss: 0.169220\n",
      "Epoch[720/1000], loss: 0.169185\n",
      "Epoch[740/1000], loss: 0.169160\n",
      "Epoch[760/1000], loss: 0.169142\n",
      "Epoch[780/1000], loss: 0.169129\n",
      "Epoch[800/1000], loss: 0.169120\n",
      "Epoch[820/1000], loss: 0.169114\n",
      "Epoch[840/1000], loss: 0.169110\n",
      "Epoch[860/1000], loss: 0.169106\n",
      "Epoch[880/1000], loss: 0.169104\n",
      "Epoch[900/1000], loss: 0.169102\n",
      "Epoch[920/1000], loss: 0.169101\n",
      "Epoch[940/1000], loss: 0.169100\n",
      "Epoch[960/1000], loss: 0.169099\n",
      "Epoch[980/1000], loss: 0.169099\n",
      "Epoch[1000/1000], loss: 0.169098\n"
     ]
    }
   ],
   "source": [
    "num_epochs = 1000\n",
    "for epoch in range(num_epochs):\n",
    "    inputs = x_train\n",
    "    target = y_train\n",
    "\n",
    "    # forward\n",
    "    out = model(inputs)\n",
    "    loss = criterion(out, target)\n",
    "    # backward\n",
    "    optimizer.zero_grad()\n",
    "    loss.backward()\n",
    "    optimizer.step()\n",
    "\n",
    "    if (epoch+1) % 20 == 0:\n",
    "        print(f'Epoch[{epoch+1}/{num_epochs}], loss: {loss.item():.6f}')"
   ]
  },
  {
   "cell_type": "code",
   "execution_count": 15,
   "metadata": {},
   "outputs": [],
   "source": [
    "\n",
    "model.eval()\n",
    "with torch.no_grad():\n",
    "    predict = model(x_train)\n",
    "predict = predict.data.numpy()\n"
   ]
  },
  {
   "cell_type": "code",
   "execution_count": 16,
   "metadata": {},
   "outputs": [
    {
     "data": {
      "image/png": "[encoded data removed]",
      "text/plain": [
       "<Figure size 720x360 with 1 Axes>"
      ]
     },
     "metadata": {
      "needs_background": "light"
     },
     "output_type": "display_data"
    }
   ],
   "source": [
    "fig = plt.figure(figsize=(10, 5))\n",
    "plt.plot(x_train.numpy(), y_train.numpy(), 'ro', label='Original data')\n",
    "plt.plot(x_train.numpy(), predict, label='Fitting Line')\n",
    "plt.legend() \n",
    "plt.show()\n"
   ]
  },
  {
   "cell_type": "code",
   "execution_count": 17,
   "metadata": {},
   "outputs": [],
   "source": [
    "torch.save(model.state_dict(), './linear.pth')"
   ]
  },
  {
   "cell_type": "code",
   "execution_count": null,
   "metadata": {},
   "outputs": [],
   "source": []
  }
 ],
 "metadata": {
  "kernelspec": {
   "display_name": "Python 3",
   "language": "python",
   "name": "python3"
  },
  "language_info": {
   "codemirror_mode": {
    "name": "ipython",
    "version": 3
   },
   "file_extension": ".py",
   "mimetype": "text/x-python",
   "name": "python",
   "nbconvert_exporter": "python",
   "pygments_lexer": "ipython3",
   "version": "3.7.4"
  }
 },
 "nbformat": 4,
 "nbformat_minor": 2
}
