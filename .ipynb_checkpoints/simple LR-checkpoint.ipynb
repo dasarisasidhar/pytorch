{
 "cells": [
  {
   "cell_type": "code",
   "execution_count": 1,
   "metadata": {},
   "outputs": [],
   "source": [
    "import matplotlib.pyplot as plt\n",
    "import numpy as np\n",
    "import torch"
   ]
  },
  {
   "cell_type": "code",
   "execution_count": 2,
   "metadata": {},
   "outputs": [],
   "source": [
    "\n",
    "x_train = np.array([[60.0], [80.0],  [100.0], [30.0], [50.0], [20.0], [90.0],  [10.0], [20.0], [120.0]],  dtype=float)\n",
    "y_train = np.array([[160.0], [200.0], [240.0], [100.0], [140.0], [80.0], [220.0], [60.0], [80.0], [280.0]],  dtype=float)\n",
    "#since it is simple by seeing we can predict the relation b/w them i.e  gained = budget*2+40"
   ]
  },
  {
   "cell_type": "code",
   "execution_count": 3,
   "metadata": {},
   "outputs": [
    {
     "data": {
      "image/png": "[encoded data removed]",
      "text/plain": [
       "<Figure size 432x288 with 1 Axes>"
      ]
     },
     "metadata": {
      "needs_background": "light"
     },
     "output_type": "display_data"
    }
   ],
   "source": [
    "def display_plot():\n",
    "    plt.scatter(x_train, y_train)\n",
    "    plt.xlim(0,120)\n",
    "    plt.ylim(0,260)\n",
    "    plt.xlabel('Marketing Budget(in thousand of Dollars)')\n",
    "    plt.ylabel('Subscribers Gained(in thousand)')\n",
    "    plt.show()\n",
    "display_plot()"
   ]
  },
  {
   "cell_type": "code",
   "execution_count": 4,
   "metadata": {},
   "outputs": [],
   "source": [
    "x = torch.from_numpy(x_train)\n",
    "\n",
    "y = torch.from_numpy(y_train)"
   ]
  },
  {
   "cell_type": "code",
   "execution_count": 5,
   "metadata": {},
   "outputs": [
    {
     "data": {
      "text/plain": [
       "tensor([[ 60.],\n",
       "        [ 80.],\n",
       "        [100.],\n",
       "        [ 30.],\n",
       "        [ 50.],\n",
       "        [ 20.],\n",
       "        [ 90.],\n",
       "        [ 10.],\n",
       "        [ 20.],\n",
       "        [120.]], dtype=torch.float64)"
      ]
     },
     "execution_count": 5,
     "metadata": {},
     "output_type": "execute_result"
    }
   ],
   "source": [
    "x"
   ]
  },
  {
   "cell_type": "code",
   "execution_count": 6,
   "metadata": {},
   "outputs": [
    {
     "data": {
      "text/plain": [
       "torch.Size([10, 1])"
      ]
     },
     "execution_count": 6,
     "metadata": {},
     "output_type": "execute_result"
    }
   ],
   "source": [
    "x.shape"
   ]
  },
  {
   "cell_type": "code",
   "execution_count": 7,
   "metadata": {},
   "outputs": [],
   "source": [
    "x = x.reshape([10])"
   ]
  },
  {
   "cell_type": "code",
   "execution_count": 8,
   "metadata": {},
   "outputs": [],
   "source": [
    "y = y.reshape([10])"
   ]
  },
  {
   "cell_type": "code",
   "execution_count": 9,
   "metadata": {},
   "outputs": [
    {
     "data": {
      "text/plain": [
       "torch.Size([10])"
      ]
     },
     "execution_count": 9,
     "metadata": {},
     "output_type": "execute_result"
    }
   ],
   "source": [
    "y.shape"
   ]
  },
  {
   "cell_type": "code",
   "execution_count": 10,
   "metadata": {},
   "outputs": [
    {
     "name": "stdout",
     "output_type": "stream",
     "text": [
      "torch.Size([500])\n"
     ]
    }
   ],
   "source": [
    "epoch = 500\n",
    "lr = 0.0005     \n",
    "w = torch.rand(1)  # intialize w with a random value\n",
    "b = torch.rand(1)  # initialize bias with a random value \n",
    "loss = torch.zeros(epoch)  # a torch tensor to save l\n",
    "print(loss.size())"
   ]
  },
  {
   "cell_type": "code",
   "execution_count": 11,
   "metadata": {},
   "outputs": [
    {
     "data": {
      "text/plain": [
       "Text(0, 0.5, 'loss')"
      ]
     },
     "execution_count": 11,
     "metadata": {},
     "output_type": "execute_result"
    },
    {
     "data": {
      "image/png": "[encoded data removed]",
      "text/plain": [
       "<Figure size 432x288 with 1 Axes>"
      ]
     },
     "metadata": {
      "needs_background": "light"
     },
     "output_type": "display_data"
    }
   ],
   "source": [
    "for i in range(epoch):\n",
    "    y_hat = w * x + b \n",
    "    loss[i] = 0.5 * torch.sum((y - y_hat)**2)\n",
    "    w = w  + lr * torch.dot(x,(y - y_hat))\n",
    "    b = b + lr *(torch.sum(y - y_hat))\n",
    "\n",
    "plt.plot(loss.numpy()) \n",
    "plt.xlabel('steps')\n",
    "plt.ylabel('loss')"
   ]
  },
  {
   "cell_type": "code",
   "execution_count": null,
   "metadata": {},
   "outputs": [],
   "source": []
  },
  {
   "cell_type": "code",
   "execution_count": null,
   "metadata": {},
   "outputs": [],
   "source": []
  },
  {
   "cell_type": "code",
   "execution_count": null,
   "metadata": {},
   "outputs": [],
   "source": []
  },
  {
   "cell_type": "code",
   "execution_count": null,
   "metadata": {},
   "outputs": [],
   "source": []
  }
 ],
 "metadata": {
  "kernelspec": {
   "display_name": "Python 3",
   "language": "python",
   "name": "python3"
  },
  "language_info": {
   "codemirror_mode": {
    "name": "ipython",
    "version": 3
   },
   "file_extension": ".py",
   "mimetype": "text/x-python",
   "name": "python",
   "nbconvert_exporter": "python",
   "pygments_lexer": "ipython3",
   "version": "3.7.4"
  }
 },
 "nbformat": 4,
 "nbformat_minor": 2
}
