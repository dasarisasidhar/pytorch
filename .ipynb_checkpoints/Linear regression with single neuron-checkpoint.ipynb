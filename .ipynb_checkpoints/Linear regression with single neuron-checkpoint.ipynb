{
 "cells": [
  {
   "cell_type": "code",
   "execution_count": 1,
   "metadata": {},
   "outputs": [],
   "source": [
    "import numpy as np\n",
    "import matplotlib.pyplot as plt"
   ]
  },
  {
   "cell_type": "code",
   "execution_count": 2,
   "metadata": {},
   "outputs": [],
   "source": [
    "x_train    = np.array([[60], [80],  [100], [30], [50], [20], [90],  [10], [20], [120]], dtype=np.float32)\n",
    "y_train = np.array([[160], [200], [240], [100], [140], [80], [220], [60], [80], [280]],  dtype=np.float32)\n",
    "#since it is simple by seeing we can predict the relation b/w them i.e  gained = budget*2+40"
   ]
  },
  {
   "cell_type": "code",
   "execution_count": null,
   "metadata": {},
   "outputs": [],
   "source": []
  },
  {
   "cell_type": "code",
   "execution_count": 3,
   "metadata": {},
   "outputs": [],
   "source": [
    "\n",
    "import torch\n",
    "from torch import nn"
   ]
  },
  {
   "cell_type": "code",
   "execution_count": 4,
   "metadata": {},
   "outputs": [],
   "source": [
    "x_train = torch.from_numpy(x_train)\n",
    "\n",
    "y_train = torch.from_numpy(y_train)"
   ]
  },
  {
   "cell_type": "code",
   "execution_count": 5,
   "metadata": {},
   "outputs": [
    {
     "data": {
      "text/plain": [
       "tensor([[ 60.],\n",
       "        [ 80.],\n",
       "        [100.],\n",
       "        [ 30.],\n",
       "        [ 50.],\n",
       "        [ 20.],\n",
       "        [ 90.],\n",
       "        [ 10.],\n",
       "        [ 20.],\n",
       "        [120.]])"
      ]
     },
     "execution_count": 5,
     "metadata": {},
     "output_type": "execute_result"
    }
   ],
   "source": [
    "x_train"
   ]
  },
  {
   "cell_type": "code",
   "execution_count": 6,
   "metadata": {},
   "outputs": [
    {
     "data": {
      "text/plain": [
       "tensor([[160.],\n",
       "        [200.],\n",
       "        [240.],\n",
       "        [100.],\n",
       "        [140.],\n",
       "        [ 80.],\n",
       "        [220.],\n",
       "        [ 60.],\n",
       "        [ 80.],\n",
       "        [280.]])"
      ]
     },
     "execution_count": 6,
     "metadata": {},
     "output_type": "execute_result"
    }
   ],
   "source": [
    "y_train"
   ]
  },
  {
   "cell_type": "code",
   "execution_count": 7,
   "metadata": {},
   "outputs": [],
   "source": [
    "# Linear Regression Model\n",
    "class linearRegression(nn.Module):\n",
    "    def __init__(self):\n",
    "        super(linearRegression, self).__init__()\n",
    "        self.linear = nn.Linear(1, 1)  # input and output is 1 dimension\n",
    "\n",
    "    def forward(self, x):\n",
    "        out = self.linear(x)\n",
    "        return out\n"
   ]
  },
  {
   "cell_type": "code",
   "execution_count": 8,
   "metadata": {},
   "outputs": [],
   "source": [
    "model = linearRegression()\n",
    "criterion = nn.MSELoss()\n",
    "optimizer = torch.optim.SGD(model.parameters(), lr=0.001)"
   ]
  },
  {
   "cell_type": "code",
   "execution_count": 9,
   "metadata": {},
   "outputs": [
    {
     "name": "stdout",
     "output_type": "stream",
     "text": [
      "Epoch[20/100], loss: 457.979767\n",
      "Epoch[40/100], loss: 456.950867\n",
      "Epoch[60/100], loss: 455.924133\n",
      "Epoch[80/100], loss: 454.899750\n",
      "Epoch[100/100], loss: 453.877716\n"
     ]
    }
   ],
   "source": [
    "num_epochs = 100\n",
    "for epoch in range(num_epochs):\n",
    "    inputs = x_train\n",
    "    target = y_train\n",
    "\n",
    "    # forward\n",
    "    out = model(inputs)\n",
    "    loss = criterion(out, target)\n",
    "    # backward\n",
    "    optimizer.zero_grad()\n",
    "    loss.backward()\n",
    "    optimizer.step()\n",
    "\n",
    "    if (epoch+1) % 20 == 0:\n",
    "        print(f'Epoch[{epoch+1}/{num_epochs}], loss: {loss.item():.6f}')"
   ]
  },
  {
   "cell_type": "code",
   "execution_count": 10,
   "metadata": {},
   "outputs": [],
   "source": [
    "model.eval()\n",
    "with torch.no_grad():\n",
    "    predict = model(x_train)\n",
    "predict = predict.data.numpy()\n"
   ]
  },
  {
   "cell_type": "code",
   "execution_count": 11,
   "metadata": {},
   "outputs": [
    {
     "data": {
      "image/png": "[encoded data removed]",
      "text/plain": [
       "<Figure size 720x360 with 1 Axes>"
      ]
     },
     "metadata": {
      "needs_background": "light"
     },
     "output_type": "display_data"
    }
   ],
   "source": [
    "fig = plt.figure(figsize=(10, 5))\n",
    "plt.plot(x_train.numpy(), y_train.numpy(), 'ro', label='Original data')\n",
    "plt.plot(x_train.numpy(), predict, label='Fitting Line')\n",
    "plt.legend() \n",
    "plt.show()"
   ]
  },
  {
   "cell_type": "code",
   "execution_count": 12,
   "metadata": {},
   "outputs": [
    {
     "name": "stdout",
     "output_type": "stream",
     "text": [
      "Epoch[20/5000], loss: 452.857880\n",
      "Epoch[40/5000], loss: 451.840546\n",
      "Epoch[60/5000], loss: 450.825317\n",
      "Epoch[80/5000], loss: 449.812439\n",
      "Epoch[100/5000], loss: 448.801819\n",
      "Epoch[120/5000], loss: 447.793457\n",
      "Epoch[140/5000], loss: 446.787384\n",
      "Epoch[160/5000], loss: 445.783478\n",
      "Epoch[180/5000], loss: 444.782013\n",
      "Epoch[200/5000], loss: 443.782684\n",
      "Epoch[220/5000], loss: 442.785583\n",
      "Epoch[240/5000], loss: 441.790710\n",
      "Epoch[260/5000], loss: 440.798187\n",
      "Epoch[280/5000], loss: 439.807678\n",
      "Epoch[300/5000], loss: 438.819641\n",
      "Epoch[320/5000], loss: 437.833679\n",
      "Epoch[340/5000], loss: 436.849945\n",
      "Epoch[360/5000], loss: 435.868530\n",
      "Epoch[380/5000], loss: 434.889191\n",
      "Epoch[400/5000], loss: 433.912140\n",
      "Epoch[420/5000], loss: 432.937164\n",
      "Epoch[440/5000], loss: 431.964508\n",
      "Epoch[460/5000], loss: 430.993958\n",
      "Epoch[480/5000], loss: 430.025635\n",
      "Epoch[500/5000], loss: 429.059509\n",
      "Epoch[520/5000], loss: 428.095490\n",
      "Epoch[540/5000], loss: 427.133636\n",
      "Epoch[560/5000], loss: 426.174072\n",
      "Epoch[580/5000], loss: 425.216522\n",
      "Epoch[600/5000], loss: 424.261169\n",
      "Epoch[620/5000], loss: 423.307922\n",
      "Epoch[640/5000], loss: 422.356873\n",
      "Epoch[660/5000], loss: 421.407928\n",
      "Epoch[680/5000], loss: 420.461060\n",
      "Epoch[700/5000], loss: 419.516388\n",
      "Epoch[720/5000], loss: 418.573914\n",
      "Epoch[740/5000], loss: 417.633453\n",
      "Epoch[760/5000], loss: 416.695038\n",
      "Epoch[780/5000], loss: 415.758881\n",
      "Epoch[800/5000], loss: 414.824738\n",
      "Epoch[820/5000], loss: 413.892761\n",
      "Epoch[840/5000], loss: 412.962860\n",
      "Epoch[860/5000], loss: 412.035004\n",
      "Epoch[880/5000], loss: 411.109222\n",
      "Epoch[900/5000], loss: 410.185577\n",
      "Epoch[920/5000], loss: 409.263947\n",
      "Epoch[940/5000], loss: 408.344574\n",
      "Epoch[960/5000], loss: 407.427063\n",
      "Epoch[980/5000], loss: 406.511658\n",
      "Epoch[1000/5000], loss: 405.598236\n",
      "Epoch[1020/5000], loss: 404.687042\n",
      "Epoch[1040/5000], loss: 403.777832\n",
      "Epoch[1060/5000], loss: 402.870575\n",
      "Epoch[1080/5000], loss: 401.965424\n",
      "Epoch[1100/5000], loss: 401.062286\n",
      "Epoch[1120/5000], loss: 400.161224\n",
      "Epoch[1140/5000], loss: 399.261993\n",
      "Epoch[1160/5000], loss: 398.364990\n",
      "Epoch[1180/5000], loss: 397.469971\n",
      "Epoch[1200/5000], loss: 396.576843\n",
      "Epoch[1220/5000], loss: 395.685913\n",
      "Epoch[1240/5000], loss: 394.796906\n",
      "Epoch[1260/5000], loss: 393.909790\n",
      "Epoch[1280/5000], loss: 393.024841\n",
      "Epoch[1300/5000], loss: 392.141876\n",
      "Epoch[1320/5000], loss: 391.260773\n",
      "Epoch[1340/5000], loss: 390.381683\n",
      "Epoch[1360/5000], loss: 389.504639\n",
      "Epoch[1380/5000], loss: 388.629486\n",
      "Epoch[1400/5000], loss: 387.756348\n",
      "Epoch[1420/5000], loss: 386.885132\n",
      "Epoch[1440/5000], loss: 386.015808\n",
      "Epoch[1460/5000], loss: 385.148621\n",
      "Epoch[1480/5000], loss: 384.283203\n",
      "Epoch[1500/5000], loss: 383.419952\n",
      "Epoch[1520/5000], loss: 382.558472\n",
      "Epoch[1540/5000], loss: 381.698883\n",
      "Epoch[1560/5000], loss: 380.841309\n",
      "Epoch[1580/5000], loss: 379.985718\n",
      "Epoch[1600/5000], loss: 379.131927\n",
      "Epoch[1620/5000], loss: 378.280090\n",
      "Epoch[1640/5000], loss: 377.430206\n",
      "Epoch[1660/5000], loss: 376.582153\n",
      "Epoch[1680/5000], loss: 375.736084\n",
      "Epoch[1700/5000], loss: 374.891937\n",
      "Epoch[1720/5000], loss: 374.049591\n",
      "Epoch[1740/5000], loss: 373.209259\n",
      "Epoch[1760/5000], loss: 372.370728\n",
      "Epoch[1780/5000], loss: 371.534088\n",
      "Epoch[1800/5000], loss: 370.699341\n",
      "Epoch[1820/5000], loss: 369.866486\n",
      "Epoch[1840/5000], loss: 369.035492\n",
      "Epoch[1860/5000], loss: 368.206268\n",
      "Epoch[1880/5000], loss: 367.379028\n",
      "Epoch[1900/5000], loss: 366.553589\n",
      "Epoch[1920/5000], loss: 365.730011\n",
      "Epoch[1940/5000], loss: 364.908356\n",
      "Epoch[1960/5000], loss: 364.088501\n",
      "Epoch[1980/5000], loss: 363.270447\n",
      "Epoch[2000/5000], loss: 362.454254\n",
      "Epoch[2020/5000], loss: 361.640015\n",
      "Epoch[2040/5000], loss: 360.827362\n",
      "Epoch[2060/5000], loss: 360.016815\n",
      "Epoch[2080/5000], loss: 359.207886\n",
      "Epoch[2100/5000], loss: 358.400787\n",
      "Epoch[2120/5000], loss: 357.595551\n",
      "Epoch[2140/5000], loss: 356.792114\n",
      "Epoch[2160/5000], loss: 355.990448\n",
      "Epoch[2180/5000], loss: 355.190704\n",
      "Epoch[2200/5000], loss: 354.392639\n",
      "Epoch[2220/5000], loss: 353.596375\n",
      "Epoch[2240/5000], loss: 352.802032\n",
      "Epoch[2260/5000], loss: 352.009216\n",
      "Epoch[2280/5000], loss: 351.218384\n",
      "Epoch[2300/5000], loss: 350.429291\n",
      "Epoch[2320/5000], loss: 349.641937\n",
      "Epoch[2340/5000], loss: 348.856415\n",
      "Epoch[2360/5000], loss: 348.072601\n",
      "Epoch[2380/5000], loss: 347.290527\n",
      "Epoch[2400/5000], loss: 346.510345\n",
      "Epoch[2420/5000], loss: 345.731689\n",
      "Epoch[2440/5000], loss: 344.955017\n",
      "Epoch[2460/5000], loss: 344.179962\n",
      "Epoch[2480/5000], loss: 343.406769\n",
      "Epoch[2500/5000], loss: 342.635162\n",
      "Epoch[2520/5000], loss: 341.865265\n",
      "Epoch[2540/5000], loss: 341.097260\n",
      "Epoch[2560/5000], loss: 340.330780\n",
      "Epoch[2580/5000], loss: 339.566193\n",
      "Epoch[2600/5000], loss: 338.803284\n",
      "Epoch[2620/5000], loss: 338.042053\n",
      "Epoch[2640/5000], loss: 337.282501\n",
      "Epoch[2660/5000], loss: 336.524780\n",
      "Epoch[2680/5000], loss: 335.768646\n",
      "Epoch[2700/5000], loss: 335.014252\n",
      "Epoch[2720/5000], loss: 334.261566\n",
      "Epoch[2740/5000], loss: 333.510590\n",
      "Epoch[2760/5000], loss: 332.761169\n",
      "Epoch[2780/5000], loss: 332.013641\n",
      "Epoch[2800/5000], loss: 331.267700\n",
      "Epoch[2820/5000], loss: 330.523376\n",
      "Epoch[2840/5000], loss: 329.780823\n",
      "Epoch[2860/5000], loss: 329.039795\n",
      "Epoch[2880/5000], loss: 328.300598\n",
      "Epoch[2900/5000], loss: 327.562988\n",
      "Epoch[2920/5000], loss: 326.826965\n",
      "Epoch[2940/5000], loss: 326.092651\n",
      "Epoch[2960/5000], loss: 325.360077\n",
      "Epoch[2980/5000], loss: 324.628937\n",
      "Epoch[3000/5000], loss: 323.899658\n",
      "Epoch[3020/5000], loss: 323.171936\n",
      "Epoch[3040/5000], loss: 322.445770\n",
      "Epoch[3060/5000], loss: 321.721405\n",
      "Epoch[3080/5000], loss: 320.998596\n",
      "Epoch[3100/5000], loss: 320.277313\n",
      "Epoch[3120/5000], loss: 319.557770\n",
      "Epoch[3140/5000], loss: 318.839844\n",
      "Epoch[3160/5000], loss: 318.123444\n",
      "Epoch[3180/5000], loss: 317.408661\n",
      "Epoch[3200/5000], loss: 316.695526\n",
      "Epoch[3220/5000], loss: 315.983978\n",
      "Epoch[3240/5000], loss: 315.274078\n",
      "Epoch[3260/5000], loss: 314.565765\n",
      "Epoch[3280/5000], loss: 313.858978\n",
      "Epoch[3300/5000], loss: 313.153778\n",
      "Epoch[3320/5000], loss: 312.450287\n",
      "Epoch[3340/5000], loss: 311.748199\n",
      "Epoch[3360/5000], loss: 311.047821\n",
      "Epoch[3380/5000], loss: 310.348999\n",
      "Epoch[3400/5000], loss: 309.651672\n",
      "Epoch[3420/5000], loss: 308.956024\n",
      "Epoch[3440/5000], loss: 308.261749\n",
      "Epoch[3460/5000], loss: 307.569244\n",
      "Epoch[3480/5000], loss: 306.878174\n",
      "Epoch[3500/5000], loss: 306.188690\n",
      "Epoch[3520/5000], loss: 305.500763\n",
      "Epoch[3540/5000], loss: 304.814362\n",
      "Epoch[3560/5000], loss: 304.129547\n",
      "Epoch[3580/5000], loss: 303.446228\n",
      "Epoch[3600/5000], loss: 302.764435\n",
      "Epoch[3620/5000], loss: 302.084290\n",
      "Epoch[3640/5000], loss: 301.405457\n",
      "Epoch[3660/5000], loss: 300.728363\n",
      "Epoch[3680/5000], loss: 300.052612\n",
      "Epoch[3700/5000], loss: 299.378448\n",
      "Epoch[3720/5000], loss: 298.705872\n",
      "Epoch[3740/5000], loss: 298.034698\n",
      "Epoch[3760/5000], loss: 297.365082\n",
      "Epoch[3780/5000], loss: 296.696991\n",
      "Epoch[3800/5000], loss: 296.030457\n",
      "Epoch[3820/5000], loss: 295.365295\n",
      "Epoch[3840/5000], loss: 294.701691\n",
      "Epoch[3860/5000], loss: 294.039581\n",
      "Epoch[3880/5000], loss: 293.378967\n",
      "Epoch[3900/5000], loss: 292.719696\n",
      "Epoch[3920/5000], loss: 292.062134\n",
      "Epoch[3940/5000], loss: 291.405945\n",
      "Epoch[3960/5000], loss: 290.751099\n",
      "Epoch[3980/5000], loss: 290.097931\n",
      "Epoch[4000/5000], loss: 289.446198\n",
      "Epoch[4020/5000], loss: 288.795898\n",
      "Epoch[4040/5000], loss: 288.146942\n",
      "Epoch[4060/5000], loss: 287.499603\n",
      "Epoch[4080/5000], loss: 286.853699\n",
      "Epoch[4100/5000], loss: 286.209106\n",
      "Epoch[4120/5000], loss: 285.566101\n",
      "Epoch[4140/5000], loss: 284.924530\n",
      "Epoch[4160/5000], loss: 284.284302\n",
      "Epoch[4180/5000], loss: 283.645630\n",
      "Epoch[4200/5000], loss: 283.008362\n",
      "Epoch[4220/5000], loss: 282.372559\n",
      "Epoch[4240/5000], loss: 281.738098\n",
      "Epoch[4260/5000], loss: 281.105042\n",
      "Epoch[4280/5000], loss: 280.473511\n",
      "Epoch[4300/5000], loss: 279.843323\n",
      "Epoch[4320/5000], loss: 279.214630\n",
      "Epoch[4340/5000], loss: 278.587341\n",
      "Epoch[4360/5000], loss: 277.961365\n",
      "Epoch[4380/5000], loss: 277.336853\n",
      "Epoch[4400/5000], loss: 276.713776\n",
      "Epoch[4420/5000], loss: 276.091980\n",
      "Epoch[4440/5000], loss: 275.471680\n",
      "Epoch[4460/5000], loss: 274.852814\n",
      "Epoch[4480/5000], loss: 274.235321\n",
      "Epoch[4500/5000], loss: 273.619202\n",
      "Epoch[4520/5000], loss: 273.004395\n",
      "Epoch[4540/5000], loss: 272.390961\n",
      "Epoch[4560/5000], loss: 271.779022\n",
      "Epoch[4580/5000], loss: 271.168365\n",
      "Epoch[4600/5000], loss: 270.559052\n",
      "Epoch[4620/5000], loss: 269.951233\n",
      "Epoch[4640/5000], loss: 269.344696\n",
      "Epoch[4660/5000], loss: 268.739594\n",
      "Epoch[4680/5000], loss: 268.135834\n",
      "Epoch[4700/5000], loss: 267.533325\n"
     ]
    },
    {
     "name": "stdout",
     "output_type": "stream",
     "text": [
      "Epoch[4720/5000], loss: 266.932251\n",
      "Epoch[4740/5000], loss: 266.332520\n",
      "Epoch[4760/5000], loss: 265.734131\n",
      "Epoch[4780/5000], loss: 265.137146\n",
      "Epoch[4800/5000], loss: 264.541382\n",
      "Epoch[4820/5000], loss: 263.946960\n",
      "Epoch[4840/5000], loss: 263.354004\n",
      "Epoch[4860/5000], loss: 262.762329\n",
      "Epoch[4880/5000], loss: 262.171967\n",
      "Epoch[4900/5000], loss: 261.582916\n",
      "Epoch[4920/5000], loss: 260.995209\n",
      "Epoch[4940/5000], loss: 260.408783\n",
      "Epoch[4960/5000], loss: 259.823761\n",
      "Epoch[4980/5000], loss: 259.239990\n",
      "Epoch[5000/5000], loss: 258.657562\n"
     ]
    }
   ],
   "source": [
    "\n",
    "num_epochs = 5000\n",
    "for epoch in range(num_epochs):\n",
    "    inputs = x_train\n",
    "    target = y_train\n",
    "\n",
    "    # forward\n",
    "    out = model(inputs)\n",
    "    loss = criterion(out, target)\n",
    "    # backward\n",
    "    optimizer.zero_grad()\n",
    "    loss.backward()\n",
    "    optimizer.step()\n",
    "\n",
    "    if (epoch+1) % 20 == 0:\n",
    "        print(f'Epoch[{epoch+1}/{num_epochs}], loss: {loss.item():.6f}')"
   ]
  },
  {
   "cell_type": "code",
   "execution_count": 13,
   "metadata": {},
   "outputs": [],
   "source": [
    "model.eval()\n",
    "with torch.no_grad():\n",
    "    predict = model(x_train)\n",
    "predict = predict.data.numpy()"
   ]
  },
  {
   "cell_type": "code",
   "execution_count": 14,
   "metadata": {},
   "outputs": [
    {
     "data": {
      "image/png": "[encoded data removed]",
      "text/plain": [
       "<Figure size 720x360 with 1 Axes>"
      ]
     },
     "metadata": {
      "needs_background": "light"
     },
     "output_type": "display_data"
    }
   ],
   "source": [
    "fig = plt.figure(figsize=(10, 5))\n",
    "plt.plot(x_train.numpy(), y_train.numpy(), 'ro', label='Original data')\n",
    "plt.plot(x_train.numpy(), predict, label='Fitting Line')\n",
    "plt.legend() \n",
    "plt.show()"
   ]
  },
  {
   "cell_type": "code",
   "execution_count": null,
   "metadata": {},
   "outputs": [],
   "source": []
  },
  {
   "cell_type": "code",
   "execution_count": null,
   "metadata": {},
   "outputs": [],
   "source": []
  },
  {
   "cell_type": "code",
   "execution_count": null,
   "metadata": {},
   "outputs": [],
   "source": []
  },
  {
   "cell_type": "code",
   "execution_count": null,
   "metadata": {},
   "outputs": [],
   "source": []
  },
  {
   "cell_type": "code",
   "execution_count": null,
   "metadata": {},
   "outputs": [],
   "source": [
    "\n",
    "    "
   ]
  },
  {
   "cell_type": "code",
   "execution_count": null,
   "metadata": {},
   "outputs": [],
   "source": []
  },
  {
   "cell_type": "code",
   "execution_count": null,
   "metadata": {},
   "outputs": [],
   "source": []
  },
  {
   "cell_type": "code",
   "execution_count": null,
   "metadata": {},
   "outputs": [],
   "source": []
  },
  {
   "cell_type": "code",
   "execution_count": null,
   "metadata": {},
   "outputs": [],
   "source": []
  },
  {
   "cell_type": "code",
   "execution_count": null,
   "metadata": {},
   "outputs": [],
   "source": [
    "\n",
    "        "
   ]
  },
  {
   "cell_type": "code",
   "execution_count": null,
   "metadata": {},
   "outputs": [],
   "source": []
  },
  {
   "cell_type": "code",
   "execution_count": null,
   "metadata": {},
   "outputs": [],
   "source": []
  },
  {
   "cell_type": "code",
   "execution_count": null,
   "metadata": {},
   "outputs": [],
   "source": []
  },
  {
   "cell_type": "code",
   "execution_count": null,
   "metadata": {},
   "outputs": [],
   "source": []
  }
 ],
 "metadata": {
  "kernelspec": {
   "display_name": "Python 3",
   "language": "python",
   "name": "python3"
  },
  "language_info": {
   "codemirror_mode": {
    "name": "ipython",
    "version": 3
   },
   "file_extension": ".py",
   "mimetype": "text/x-python",
   "name": "python",
   "nbconvert_exporter": "python",
   "pygments_lexer": "ipython3",
   "version": "3.7.4"
  }
 },
 "nbformat": 4,
 "nbformat_minor": 2
}
